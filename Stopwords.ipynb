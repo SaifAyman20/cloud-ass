{
 "cells": [
  {
   "cell_type": "code",
   "execution_count": 11,
   "id": "97cdc5cc-7df3-4db3-9816-ffb10428feaf",
   "metadata": {},
   "outputs": [
    {
     "name": "stdout",
     "output_type": "stream",
     "text": [
      "Top 20 Most Frequent Stopwords:\n",
      "the: 94291\n",
      "of: 45202\n",
      "in: 41907\n",
      "and: 39573\n",
      "a: 31052\n",
      "to: 25898\n",
      "was: 17671\n",
      "is: 16669\n",
      "on: 12013\n",
      "for: 11817\n",
      "as: 11333\n",
      "by: 11306\n",
      "with: 9257\n",
      "he: 8663\n",
      "at: 7692\n",
      "from: 7393\n",
      "it: 6685\n",
      "that: 6435\n",
      "his: 6057\n",
      "an: 5442\n",
      "\n",
      "Top 20 Most Frequent Words (after removing stopwords):\n",
      "also: 3401\n",
      "first: 2957\n",
      "new: 2648\n",
      "one: 2593\n",
      "two: 2172\n",
      "school: 1742\n",
      "help: 1721\n",
      "university: 1672\n",
      "born: 1665\n",
      "article: 1626\n",
      "national: 1589\n",
      "years: 1557\n",
      "expanding: 1513\n",
      "wikipedia: 1507\n",
      "may: 1500\n",
      "stub: 1495\n",
      "united: 1408\n",
      "time: 1405\n",
      "film: 1389\n",
      "th: 1355\n"
     ]
    }
   ],
   "source": [
    "import nltk\n",
    "from collections import Counter\n",
    "try:\n",
    "  with open(\"C:\\\\Users\\\\alextech\\\\Downloads\\\\archive (1)\\\\paragraphs.txt\", \"r\") as f:\n",
    "    text = f.read()\n",
    "except FileNotFoundError:\n",
    "  print(\"Error: 'paragraphs.txt' file not found. Please check the path and try again.\")\n",
    "  exit(1)\n",
    "\n",
    "text = text.lower()\n",
    "text = \"\".join([char for char in text if char.isalpha() or char == \" \"])\n",
    "\n",
    "stopwords = set(nltk.corpus.stopwords.words('english'))\n",
    "\n",
    "words = text.split()\n",
    "\n",
    "filtered_words = [word for word in words if word not in stopwords and word.isalpha()]\n",
    "\n",
    "print(\"Top 20 Most Frequent Stopwords:\")\n",
    "stopword_counts = Counter([word for word in words if word in stopwords])  # Count stopwords from original words\n",
    "for word, count in stopword_counts.most_common(20):\n",
    "  print(f\"{word}: {count}\")\n",
    "\n",
    "word_count = Counter(filtered_words)\n",
    "print(\"\\nTop 20 Most Frequent Words (after removing stopwords):\")\n",
    "for word, count in word_count.most_common(20):\n",
    "  print(f\"{word}: {count}\")"
   ]
  },
  {
   "cell_type": "code",
   "execution_count": null,
   "id": "a6c48ae2-8eea-4c76-a655-91c712fc729e",
   "metadata": {},
   "outputs": [],
   "source": []
  }
 ],
 "metadata": {
  "kernelspec": {
   "display_name": "Python 3 (ipykernel)",
   "language": "python",
   "name": "python3"
  },
  "language_info": {
   "codemirror_mode": {
    "name": "ipython",
    "version": 3
   },
   "file_extension": ".py",
   "mimetype": "text/x-python",
   "name": "python",
   "nbconvert_exporter": "python",
   "pygments_lexer": "ipython3",
   "version": "3.11.7"
  }
 },
 "nbformat": 4,
 "nbformat_minor": 5
}
